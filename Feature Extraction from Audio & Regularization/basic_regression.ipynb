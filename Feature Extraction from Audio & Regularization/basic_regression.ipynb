{
 "cells": [
  {
   "cell_type": "markdown",
   "metadata": {},
   "source": [
    "# Regression"
   ]
  },
  {
   "cell_type": "code",
   "execution_count": null,
   "metadata": {},
   "outputs": [],
   "source": [
    "import numpy as np\n",
    "import random\n",
    "import matplotlib.pyplot as plt \n",
    "\n",
    "def generate_data(lowest, highest, amount):\n",
    "    x = np.linspace(lowest, highest, num=amount)\n",
    "    y = []\n",
    "    noise = 400\n",
    "    random.seed(123)\n",
    "\n",
    "    for p in x:\n",
    "        y.append(10 + 0.5*p - 0.04*p**2 - 0.002*p**3 + 0.0003*p**4 - 0.00001*p**5 + random.randint(-noise,noise)/100)\n",
    "  \n",
    "    return x, y \n"
   ]
  },
  {
   "cell_type": "markdown",
   "metadata": {},
   "source": [
    "# Generate some data based on parameters\n",
    "lowest = 10\n",
    "highest = 20\n",
    "amount = 200\n",
    "\n",
    "x, y = generate_data(lowest, highest, amount)\n",
    "\n",
    "# Do the regression while plotting\n",
    "models = []\n",
    "degrees = [1, 4, 5, 6, 10]\n",
    "\n",
    "line = np.linspace(lowest, highest, 100)\n",
    "\n",
    "\n",
    "for i, deg in enumerate(degrees):\n",
    "    plt.scatter(x, y, label = \"Data\", color='red', alpha=0.5)\n",
    "    plt.title(\"Polynomial Regression\")\n",
    "    p, residuals, rank, singular_values, rcond = np.polyfit(x, y, deg, full=True)\n",
    "    print(residuals)\n",
    "    models.append(np.poly1d(p))\n",
    "    plt.plot(line, models[i](line), label = \"Order n=\"+str(deg))\n",
    "    plt.legend()\n",
    "    plt.show() \n",
    "\n",
    "# Generate data based on new parameters\n",
    "lowest = 8 \n",
    "highest = 22\n",
    "amount = 25\n",
    "\n",
    "line = np.linspace(lowest, highest, 100)\n",
    "x, y = generate_data(lowest, highest, amount)\n",
    "\n",
    "# Plot without fitting to see how the models generalize\n",
    "for i, deg in enumerate(degrees):\n",
    "    plt.title(\"Polynomial Regression\")\n",
    "    plt.scatter(x, y, label = \"Data\", color='red', alpha=0.5)\n",
    "    plt.plot(line, models[i](line), label = \"Order n=\"+str(deg))\n",
    "    plt.legend()\n",
    "    plt.show() \n"
   ]
  },
  {
   "cell_type": "code",
   "execution_count": null,
   "metadata": {},
   "outputs": [],
   "source": []
  }
 ],
 "metadata": {
  "language_info": {
   "name": "python"
  }
 },
 "nbformat": 4,
 "nbformat_minor": 2
}
